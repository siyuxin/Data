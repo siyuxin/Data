{
 "cells": [
  {
   "cell_type": "code",
   "execution_count": 12,
   "metadata": {},
   "outputs": [],
   "source": [
    "import numpy as np\n",
    "import pandas as pd\n",
    "import matplotlib.pyplot as plt\n",
    "%matplotlib inline\n",
    "import datetime\n",
    "from Task1 import final_data,X,y,x_train, x_test, y_train, y_test "
   ]
  },
  {
   "cell_type": "markdown",
   "metadata": {},
   "source": [
    "## XGBoost"
   ]
  },
  {
   "cell_type": "code",
   "execution_count": 105,
   "metadata": {},
   "outputs": [],
   "source": [
    "from xgboost import XGBClassifier\n",
    "xgb1 = XGBClassifier(\n",
    " learning_rate =0.1,\n",
    " n_estimators=500,\n",
    " max_depth=6,\n",
    " min_child_weight=1,\n",
    " gamma=0,#惩罚项\n",
    " subsample=0.8,#随机选80%的样本\n",
    " colsample_bytree=0.8,#随机选特征\n",
    "#  objective= 'binary:logistic',#lost funation ： logistic\n",
    " nthread=3,#均衡样本\n",
    " scale_pos_weight=1,\n",
    " seed=2018)"
   ]
  },
  {
   "cell_type": "code",
   "execution_count": 106,
   "metadata": {},
   "outputs": [
    {
     "data": {
      "text/plain": [
       "0.8656995788488535"
      ]
     },
     "execution_count": 106,
     "metadata": {},
     "output_type": "execute_result"
    }
   ],
   "source": [
    "from xgboost import XGBClassifier \n",
    "clf = xgb1.fit(x_train,y_train)\n",
    "clf.score(x_test,y_test)"
   ]
  },
  {
   "cell_type": "code",
   "execution_count": 58,
   "metadata": {},
   "outputs": [
    {
     "name": "stdout",
     "output_type": "stream",
     "text": [
      "准确率:0.8657,精确率:0.9024,召回率:0.8183,f1-score:0.8583,auc:0.8654\n"
     ]
    },
    {
     "data": {
      "image/png": "[encoded data removed]",
      "text/plain": [
       "<Figure size 432x288 with 1 Axes>"
      ]
     },
     "metadata": {
      "needs_background": "light"
     },
     "output_type": "display_data"
    }
   ],
   "source": [
    "from sklearn import metrics\n",
    "\n",
    "y_test_pred = clf.predict(x_test)\n",
    "acc = metrics.accuracy_score(y_test,y_test_pred)\n",
    "precision = metrics.precision_score(y_test,y_test_pred)\n",
    "recall = metrics.recall_score(y_test,y_test_pred)\n",
    "f1 = metrics.f1_score(y_test,y_test_pred)\n",
    "auc= metrics.roc_auc_score(y_test,y_test_pred)\n",
    "print('准确率:{:.4f},精确率:{:.4f},召回率:{:.4f},f1-score:{:.4f},auc:{:.4f}'.format(acc,precision,recall,f1,auc))\n",
    "\n",
    "predictors = ['acc','precision','recall','f1','auc']\n",
    "xgb_scores = [acc,precision,recall,f1,auc]\n",
    "plt.bar(range(len(predictors)), xgb_scores, width = 0.35)\n",
    "plt.xticks(range(len(predictors)), predictors, rotation='vertical')\n",
    "plt.show()"
   ]
  },
  {
   "cell_type": "markdown",
   "metadata": {},
   "source": [
    "## RandomForestClassifier\n",
    "\n"
   ]
  },
  {
   "cell_type": "code",
   "execution_count": 26,
   "metadata": {},
   "outputs": [
    {
     "data": {
      "text/plain": [
       "0.7898923724847917"
      ]
     },
     "execution_count": 26,
     "metadata": {},
     "output_type": "execute_result"
    }
   ],
   "source": [
    "from sklearn.ensemble import RandomForestClassifier\n",
    "\n",
    "RF = RandomForestClassifier(n_estimators=500, min_samples_split=4, min_samples_leaf=2,bootstrap=True, max_depth=4, max_features=6)\n",
    "RF.fit(x_train, y_train)\n",
    "RF.score(x_test, y_test)"
   ]
  },
  {
   "cell_type": "code",
   "execution_count": 27,
   "metadata": {},
   "outputs": [
    {
     "name": "stdout",
     "output_type": "stream",
     "text": [
      "准确率:0.7899,精确率:0.7984,召回率:0.7721,f1-score:0.7851,auc:0.7898\n"
     ]
    },
    {
     "data": {
      "image/png": "[encoded data removed]",
      "text/plain": [
       "<Figure size 432x288 with 1 Axes>"
      ]
     },
     "metadata": {
      "needs_background": "light"
     },
     "output_type": "display_data"
    }
   ],
   "source": [
    "from sklearn import metrics\n",
    "\n",
    "y_test_pred = RF.predict(x_test)\n",
    "acc = metrics.accuracy_score(y_test,y_test_pred)\n",
    "precision = metrics.precision_score(y_test,y_test_pred)\n",
    "recall = metrics.recall_score(y_test,y_test_pred)\n",
    "f1 = metrics.f1_score(y_test,y_test_pred)\n",
    "auc= metrics.roc_auc_score(y_test,y_test_pred)\n",
    "print('准确率:{:.4f},精确率:{:.4f},召回率:{:.4f},f1-score:{:.4f},auc:{:.4f}'.format(acc,precision,recall,f1,auc))\n",
    "\n",
    "predictors = ['acc','precision','recall','f1','auc']\n",
    "rf_scores = [acc,precision,recall,f1,auc]\n",
    "plt.bar(range(len(predictors)), rf_scores, width = 0.35)\n",
    "plt.xticks(range(len(predictors)), predictors, rotation='vertical')\n",
    "plt.show()"
   ]
  },
  {
   "cell_type": "markdown",
   "metadata": {},
   "source": [
    "## LogisticRegression"
   ]
  },
  {
   "cell_type": "code",
   "execution_count": 28,
   "metadata": {},
   "outputs": [
    {
     "name": "stderr",
     "output_type": "stream",
     "text": [
      "C:\\Users\\SYX\\AppData\\Roaming\\Python\\Python36\\site-packages\\sklearn\\linear_model\\logistic.py:432: FutureWarning: Default solver will be changed to 'lbfgs' in 0.22. Specify a solver to silence this warning.\n",
      "  FutureWarning)\n"
     ]
    },
    {
     "data": {
      "text/plain": [
       "0.7262517547964437"
      ]
     },
     "execution_count": 28,
     "metadata": {},
     "output_type": "execute_result"
    }
   ],
   "source": [
    "from sklearn.linear_model import LogisticRegression as LR\n",
    "lr = LR().fit(x_train,y_train)\n",
    "lr.score(x_test,y_test)"
   ]
  },
  {
   "cell_type": "code",
   "execution_count": 29,
   "metadata": {},
   "outputs": [
    {
     "name": "stdout",
     "output_type": "stream",
     "text": [
      "准确率:0.7263,精确率:0.7540,召回率:0.6667,f1-score:0.7076,auc:0.7259\n"
     ]
    },
    {
     "data": {
      "image/png": "[encoded data removed]",
      "text/plain": [
       "<Figure size 432x288 with 1 Axes>"
      ]
     },
     "metadata": {
      "needs_background": "light"
     },
     "output_type": "display_data"
    }
   ],
   "source": [
    "from sklearn import metrics\n",
    "\n",
    "y_test_pred = lr.predict(x_test)\n",
    "acc = metrics.accuracy_score(y_test,y_test_pred)\n",
    "precision = metrics.precision_score(y_test,y_test_pred)\n",
    "recall = metrics.recall_score(y_test,y_test_pred)\n",
    "f1 = metrics.f1_score(y_test,y_test_pred)\n",
    "auc= metrics.roc_auc_score(y_test,y_test_pred)\n",
    "print('准确率:{:.4f},精确率:{:.4f},召回率:{:.4f},f1-score:{:.4f},auc:{:.4f}'.format(acc,precision,recall,f1,auc))\n",
    "\n",
    "predictors = ['acc','precision','recall','f1','auc']\n",
    "lr_scores = [acc,precision,recall,f1,auc]\n",
    "plt.bar(range(len(predictors)), lr_scores, width = 0.35)\n",
    "plt.xticks(range(len(predictors)), predictors, rotation='vertical')\n",
    "plt.show()"
   ]
  },
  {
   "cell_type": "markdown",
   "metadata": {},
   "source": [
    "## SVM"
   ]
  },
  {
   "cell_type": "code",
   "execution_count": 30,
   "metadata": {},
   "outputs": [
    {
     "data": {
      "text/plain": [
       "0.7622835751052878"
      ]
     },
     "execution_count": 30,
     "metadata": {},
     "output_type": "execute_result"
    }
   ],
   "source": [
    "from sklearn.svm import SVC\n",
    "svm = SVC(kernel='rbf',gamma='auto',cache_size=5000).fit(x_train,y_train)\n",
    "svm.score(x_test,y_test)"
   ]
  },
  {
   "cell_type": "code",
   "execution_count": 31,
   "metadata": {},
   "outputs": [
    {
     "name": "stdout",
     "output_type": "stream",
     "text": [
      "准确率:0.7623,精确率:0.7608,召回率:0.7608,f1-score:0.7608,auc:0.7623\n"
     ]
    },
    {
     "data": {
      "image/png": "[encoded data removed]",
      "text/plain": [
       "<Figure size 432x288 with 1 Axes>"
      ]
     },
     "metadata": {
      "needs_background": "light"
     },
     "output_type": "display_data"
    }
   ],
   "source": [
    "from sklearn import metrics\n",
    "\n",
    "y_test_pred = svm.predict(x_test)\n",
    "acc = metrics.accuracy_score(y_test,y_test_pred)\n",
    "precision = metrics.precision_score(y_test,y_test_pred)\n",
    "recall = metrics.recall_score(y_test,y_test_pred)\n",
    "f1 = metrics.f1_score(y_test,y_test_pred)\n",
    "auc= metrics.roc_auc_score(y_test,y_test_pred)\n",
    "print('准确率:{:.4f},精确率:{:.4f},召回率:{:.4f},f1-score:{:.4f},auc:{:.4f}'.format(acc,precision,recall,f1,auc))\n",
    "\n",
    "predictors = ['acc','precision','recall','f1','auc']\n",
    "svm_scores = [acc,precision,recall,f1,auc]\n",
    "plt.bar(range(len(predictors)), svm_scores, width = 0.35)\n",
    "plt.xticks(range(len(predictors)), predictors, rotation='vertical')\n",
    "plt.show()"
   ]
  },
  {
   "cell_type": "markdown",
   "metadata": {},
   "source": [
    "## DecisionTree"
   ]
  },
  {
   "cell_type": "code",
   "execution_count": 32,
   "metadata": {},
   "outputs": [
    {
     "data": {
      "text/plain": [
       "0.7730463266261114"
      ]
     },
     "execution_count": 32,
     "metadata": {},
     "output_type": "execute_result"
    }
   ],
   "source": [
    "from sklearn.tree import DecisionTreeClassifier\n",
    "dtc = DecisionTreeClassifier().fit(x_train,y_train)\n",
    "dtc.score(x_test,y_test)"
   ]
  },
  {
   "cell_type": "code",
   "execution_count": 33,
   "metadata": {},
   "outputs": [
    {
     "name": "stdout",
     "output_type": "stream",
     "text": [
      "准确率:0.7730,精确率:0.7616,召回率:0.7910,f1-score:0.7760,auc:0.7732\n"
     ]
    },
    {
     "data": {
      "image/png": "[encoded data removed]",
      "text/plain": [
       "<Figure size 432x288 with 1 Axes>"
      ]
     },
     "metadata": {
      "needs_background": "light"
     },
     "output_type": "display_data"
    }
   ],
   "source": [
    "from sklearn import metrics\n",
    "\n",
    "y_test_pred = dtc.predict(x_test)\n",
    "acc = metrics.accuracy_score(y_test,y_test_pred)\n",
    "precision = metrics.precision_score(y_test,y_test_pred)\n",
    "recall = metrics.recall_score(y_test,y_test_pred)\n",
    "f1 = metrics.f1_score(y_test,y_test_pred)\n",
    "auc= metrics.roc_auc_score(y_test,y_test_pred)\n",
    "print('准确率:{:.4f},精确率:{:.4f},召回率:{:.4f},f1-score:{:.4f},auc:{:.4f}'.format(acc,precision,recall,f1,auc))\n",
    "\n",
    "predictors = ['acc','precision','recall','f1','auc']\n",
    "dtc_scores = [acc,precision,recall,f1,auc]\n",
    "plt.bar(range(len(predictors)), dtc_scores, width = 0.35)\n",
    "plt.xticks(range(len(predictors)), predictors, rotation='vertical')\n",
    "plt.show()"
   ]
  },
  {
   "cell_type": "code",
   "execution_count": 34,
   "metadata": {},
   "outputs": [],
   "source": [
    "s = pd.DataFrame( columns=predictors, index=['xgb_scores', 'rf_scores', 'svm_scores', 'lr_scores', 'dtc_scores'])"
   ]
  },
  {
   "cell_type": "code",
   "execution_count": 131,
   "metadata": {},
   "outputs": [
    {
     "data": {
      "text/html": [
       "<div>\n",
       "<style scoped>\n",
       "    .dataframe tbody tr th:only-of-type {\n",
       "        vertical-align: middle;\n",
       "    }\n",
       "\n",
       "    .dataframe tbody tr th {\n",
       "        vertical-align: top;\n",
       "    }\n",
       "\n",
       "    .dataframe thead th {\n",
       "        text-align: right;\n",
       "    }\n",
       "</style>\n",
       "<table border=\"1\" class=\"dataframe\">\n",
       "  <thead>\n",
       "    <tr style=\"text-align: right;\">\n",
       "      <th></th>\n",
       "      <th>acc</th>\n",
       "      <th>precision</th>\n",
       "      <th>recall</th>\n",
       "      <th>f1</th>\n",
       "      <th>auc</th>\n",
       "    </tr>\n",
       "  </thead>\n",
       "  <tbody>\n",
       "    <tr>\n",
       "      <th>xgb_scores</th>\n",
       "      <td>NaN</td>\n",
       "      <td>NaN</td>\n",
       "      <td>NaN</td>\n",
       "      <td>NaN</td>\n",
       "      <td>NaN</td>\n",
       "    </tr>\n",
       "    <tr>\n",
       "      <th>rf_scores</th>\n",
       "      <td>NaN</td>\n",
       "      <td>NaN</td>\n",
       "      <td>NaN</td>\n",
       "      <td>NaN</td>\n",
       "      <td>NaN</td>\n",
       "    </tr>\n",
       "    <tr>\n",
       "      <th>svm_scores</th>\n",
       "      <td>NaN</td>\n",
       "      <td>NaN</td>\n",
       "      <td>NaN</td>\n",
       "      <td>NaN</td>\n",
       "      <td>NaN</td>\n",
       "    </tr>\n",
       "    <tr>\n",
       "      <th>lr_scores</th>\n",
       "      <td>NaN</td>\n",
       "      <td>NaN</td>\n",
       "      <td>NaN</td>\n",
       "      <td>NaN</td>\n",
       "      <td>NaN</td>\n",
       "    </tr>\n",
       "    <tr>\n",
       "      <th>dtc_scores</th>\n",
       "      <td>NaN</td>\n",
       "      <td>NaN</td>\n",
       "      <td>NaN</td>\n",
       "      <td>NaN</td>\n",
       "      <td>NaN</td>\n",
       "    </tr>\n",
       "  </tbody>\n",
       "</table>\n",
       "</div>"
      ],
      "text/plain": [
       "            acc precision recall   f1  auc\n",
       "xgb_scores  NaN       NaN    NaN  NaN  NaN\n",
       "rf_scores   NaN       NaN    NaN  NaN  NaN\n",
       "svm_scores  NaN       NaN    NaN  NaN  NaN\n",
       "lr_scores   NaN       NaN    NaN  NaN  NaN\n",
       "dtc_scores  NaN       NaN    NaN  NaN  NaN"
      ]
     },
     "execution_count": 131,
     "metadata": {},
     "output_type": "execute_result"
    }
   ],
   "source": [
    "s.head()"
   ]
  },
  {
   "cell_type": "code",
   "execution_count": 107,
   "metadata": {},
   "outputs": [],
   "source": [
    "for i in range(5):\n",
    "    s.iloc[0][i] = xgb_scores[i]\n",
    "    s.iloc[1][i] = rf_scores[i]\n",
    "    s.iloc[2][i] = svm_scores[i]\n",
    "    s.iloc[3][i] = lr_scores[i]\n",
    "    s.iloc[4][i] = dtc_scores[i]"
   ]
  },
  {
   "cell_type": "code",
   "execution_count": 108,
   "metadata": {},
   "outputs": [
    {
     "data": {
      "text/html": [
       "<div>\n",
       "<style scoped>\n",
       "    .dataframe tbody tr th:only-of-type {\n",
       "        vertical-align: middle;\n",
       "    }\n",
       "\n",
       "    .dataframe tbody tr th {\n",
       "        vertical-align: top;\n",
       "    }\n",
       "\n",
       "    .dataframe thead th {\n",
       "        text-align: right;\n",
       "    }\n",
       "</style>\n",
       "<table border=\"1\" class=\"dataframe\">\n",
       "  <thead>\n",
       "    <tr style=\"text-align: right;\">\n",
       "      <th></th>\n",
       "      <th>acc</th>\n",
       "      <th>precision</th>\n",
       "      <th>recall</th>\n",
       "      <th>f1</th>\n",
       "      <th>auc</th>\n",
       "    </tr>\n",
       "  </thead>\n",
       "  <tbody>\n",
       "    <tr>\n",
       "      <th>xgb_scores</th>\n",
       "      <td>0.8657</td>\n",
       "      <td>0.902388</td>\n",
       "      <td>0.818267</td>\n",
       "      <td>0.858272</td>\n",
       "      <td>0.865413</td>\n",
       "    </tr>\n",
       "    <tr>\n",
       "      <th>rf_scores</th>\n",
       "      <td>0.789892</td>\n",
       "      <td>0.798442</td>\n",
       "      <td>0.772128</td>\n",
       "      <td>0.785065</td>\n",
       "      <td>0.789785</td>\n",
       "    </tr>\n",
       "    <tr>\n",
       "      <th>svm_scores</th>\n",
       "      <td>0.762284</td>\n",
       "      <td>0.760829</td>\n",
       "      <td>0.760829</td>\n",
       "      <td>0.760829</td>\n",
       "      <td>0.762275</td>\n",
       "    </tr>\n",
       "    <tr>\n",
       "      <th>lr_scores</th>\n",
       "      <td>0.726252</td>\n",
       "      <td>0.753994</td>\n",
       "      <td>0.666667</td>\n",
       "      <td>0.707646</td>\n",
       "      <td>0.725891</td>\n",
       "    </tr>\n",
       "    <tr>\n",
       "      <th>dtc_scores</th>\n",
       "      <td>0.773046</td>\n",
       "      <td>0.761559</td>\n",
       "      <td>0.79096</td>\n",
       "      <td>0.775982</td>\n",
       "      <td>0.773155</td>\n",
       "    </tr>\n",
       "  </tbody>\n",
       "</table>\n",
       "</div>"
      ],
      "text/plain": [
       "                 acc precision    recall        f1       auc\n",
       "xgb_scores    0.8657  0.902388  0.818267  0.858272  0.865413\n",
       "rf_scores   0.789892  0.798442  0.772128  0.785065  0.789785\n",
       "svm_scores  0.762284  0.760829  0.760829  0.760829  0.762275\n",
       "lr_scores   0.726252  0.753994  0.666667  0.707646  0.725891\n",
       "dtc_scores  0.773046  0.761559   0.79096  0.775982  0.773155"
      ]
     },
     "execution_count": 108,
     "metadata": {},
     "output_type": "execute_result"
    }
   ],
   "source": [
    "s.head()"
   ]
  },
  {
   "cell_type": "code",
   "execution_count": null,
   "metadata": {},
   "outputs": [],
   "source": []
  }
 ],
 "metadata": {
  "kernelspec": {
   "display_name": "Tensorflow",
   "language": "python",
   "name": "pycharm-3464d5c1"
  },
  "language_info": {
   "codemirror_mode": {
    "name": "ipython",
    "version": 3
   },
   "file_extension": ".py",
   "mimetype": "text/x-python",
   "name": "python",
   "nbconvert_exporter": "python",
   "pygments_lexer": "ipython3",
   "version": "3.6.7"
  }
 },
 "nbformat": 4,
 "nbformat_minor": 2
}
